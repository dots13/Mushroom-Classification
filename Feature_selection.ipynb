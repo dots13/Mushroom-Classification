{
 "cells": [
  {
   "cell_type": "code",
   "execution_count": 1,
   "id": "faaa0ec5",
   "metadata": {},
   "outputs": [],
   "source": [
    "import pandas as pd\n",
    "import numpy as np\n",
    "\n",
    "from sklearn.model_selection import train_test_split\n",
    "\n",
    "from sklearn.preprocessing import OrdinalEncoder\n",
    "from sklearn.feature_selection import chi2\n",
    "from sklearn.feature_selection import mutual_info_classif\n",
    "\n",
    "from sklearn.feature_selection import SelectKBest, SelectPercentile"
   ]
  },
  {
   "cell_type": "code",
   "execution_count": 2,
   "id": "2209ffa6",
   "metadata": {},
   "outputs": [],
   "source": [
    "import matplotlib.pyplot as plt"
   ]
  },
  {
   "cell_type": "code",
   "execution_count": 3,
   "id": "98a5083c",
   "metadata": {},
   "outputs": [
    {
     "data": {
      "text/plain": [
       "(8124, 23)"
      ]
     },
     "execution_count": 3,
     "metadata": {},
     "output_type": "execute_result"
    }
   ],
   "source": [
    "# load dataset\n",
    "df = pd.read_csv('data/mushrooms.csv')\n",
    "df.shape"
   ]
  },
  {
   "cell_type": "markdown",
   "id": "96503e1d",
   "metadata": {},
   "source": [
    " **In all feature selection procedures, it is good practice to select the features by examining only the training set. And this is to avoid overfitting**"
   ]
  },
  {
   "cell_type": "code",
   "execution_count": 4,
   "id": "f7096bc2",
   "metadata": {},
   "outputs": [
    {
     "data": {
      "text/plain": [
       "e    0.517971\n",
       "p    0.482029\n",
       "Name: class, dtype: float64"
      ]
     },
     "execution_count": 4,
     "metadata": {},
     "output_type": "execute_result"
    }
   ],
   "source": [
    "### check target\n",
    "df['class'].value_counts()/len(df)"
   ]
  },
  {
   "cell_type": "code",
   "execution_count": 5,
   "id": "e0a288fa",
   "metadata": {},
   "outputs": [
    {
     "data": {
      "text/plain": [
       "((6499, 22), (1625, 22))"
      ]
     },
     "execution_count": 5,
     "metadata": {},
     "output_type": "execute_result"
    }
   ],
   "source": [
    "# separate dataset into train and test\n",
    "X_train, X_test, y_train, y_test = train_test_split(\n",
    "    df.drop(labels=['class'], axis=1),  # drop the target\n",
    "    df['class'],  # just the target\n",
    "    test_size=0.2,\n",
    "    random_state=0)\n",
    "\n",
    "X_train.shape, X_test.shape"
   ]
  },
  {
   "cell_type": "code",
   "execution_count": 6,
   "id": "509b579b",
   "metadata": {},
   "outputs": [
    {
     "data": {
      "text/html": [
       "<div>\n",
       "<style scoped>\n",
       "    .dataframe tbody tr th:only-of-type {\n",
       "        vertical-align: middle;\n",
       "    }\n",
       "\n",
       "    .dataframe tbody tr th {\n",
       "        vertical-align: top;\n",
       "    }\n",
       "\n",
       "    .dataframe thead th {\n",
       "        text-align: right;\n",
       "    }\n",
       "</style>\n",
       "<table border=\"1\" class=\"dataframe\">\n",
       "  <thead>\n",
       "    <tr style=\"text-align: right;\">\n",
       "      <th></th>\n",
       "      <th>cap-shape</th>\n",
       "      <th>cap-surface</th>\n",
       "      <th>cap-color</th>\n",
       "      <th>bruises</th>\n",
       "      <th>odor</th>\n",
       "      <th>gill-attachment</th>\n",
       "      <th>gill-spacing</th>\n",
       "      <th>gill-size</th>\n",
       "      <th>gill-color</th>\n",
       "      <th>stalk-shape</th>\n",
       "      <th>...</th>\n",
       "      <th>stalk-surface-below-ring</th>\n",
       "      <th>stalk-color-above-ring</th>\n",
       "      <th>stalk-color-below-ring</th>\n",
       "      <th>veil-type</th>\n",
       "      <th>veil-color</th>\n",
       "      <th>ring-number</th>\n",
       "      <th>ring-type</th>\n",
       "      <th>spore-print-color</th>\n",
       "      <th>population</th>\n",
       "      <th>habitat</th>\n",
       "    </tr>\n",
       "  </thead>\n",
       "  <tbody>\n",
       "    <tr>\n",
       "      <th>7434</th>\n",
       "      <td>k</td>\n",
       "      <td>s</td>\n",
       "      <td>g</td>\n",
       "      <td>f</td>\n",
       "      <td>n</td>\n",
       "      <td>f</td>\n",
       "      <td>w</td>\n",
       "      <td>b</td>\n",
       "      <td>p</td>\n",
       "      <td>e</td>\n",
       "      <td>...</td>\n",
       "      <td>s</td>\n",
       "      <td>w</td>\n",
       "      <td>w</td>\n",
       "      <td>p</td>\n",
       "      <td>w</td>\n",
       "      <td>t</td>\n",
       "      <td>p</td>\n",
       "      <td>w</td>\n",
       "      <td>s</td>\n",
       "      <td>g</td>\n",
       "    </tr>\n",
       "    <tr>\n",
       "      <th>7725</th>\n",
       "      <td>x</td>\n",
       "      <td>f</td>\n",
       "      <td>w</td>\n",
       "      <td>f</td>\n",
       "      <td>n</td>\n",
       "      <td>f</td>\n",
       "      <td>w</td>\n",
       "      <td>b</td>\n",
       "      <td>g</td>\n",
       "      <td>e</td>\n",
       "      <td>...</td>\n",
       "      <td>s</td>\n",
       "      <td>w</td>\n",
       "      <td>w</td>\n",
       "      <td>p</td>\n",
       "      <td>w</td>\n",
       "      <td>t</td>\n",
       "      <td>p</td>\n",
       "      <td>w</td>\n",
       "      <td>n</td>\n",
       "      <td>g</td>\n",
       "    </tr>\n",
       "    <tr>\n",
       "      <th>783</th>\n",
       "      <td>x</td>\n",
       "      <td>s</td>\n",
       "      <td>w</td>\n",
       "      <td>t</td>\n",
       "      <td>l</td>\n",
       "      <td>f</td>\n",
       "      <td>c</td>\n",
       "      <td>b</td>\n",
       "      <td>n</td>\n",
       "      <td>e</td>\n",
       "      <td>...</td>\n",
       "      <td>s</td>\n",
       "      <td>w</td>\n",
       "      <td>w</td>\n",
       "      <td>p</td>\n",
       "      <td>w</td>\n",
       "      <td>o</td>\n",
       "      <td>p</td>\n",
       "      <td>k</td>\n",
       "      <td>s</td>\n",
       "      <td>m</td>\n",
       "    </tr>\n",
       "    <tr>\n",
       "      <th>1928</th>\n",
       "      <td>f</td>\n",
       "      <td>s</td>\n",
       "      <td>w</td>\n",
       "      <td>f</td>\n",
       "      <td>n</td>\n",
       "      <td>f</td>\n",
       "      <td>w</td>\n",
       "      <td>b</td>\n",
       "      <td>h</td>\n",
       "      <td>t</td>\n",
       "      <td>...</td>\n",
       "      <td>f</td>\n",
       "      <td>w</td>\n",
       "      <td>w</td>\n",
       "      <td>p</td>\n",
       "      <td>w</td>\n",
       "      <td>o</td>\n",
       "      <td>e</td>\n",
       "      <td>k</td>\n",
       "      <td>s</td>\n",
       "      <td>g</td>\n",
       "    </tr>\n",
       "    <tr>\n",
       "      <th>7466</th>\n",
       "      <td>k</td>\n",
       "      <td>y</td>\n",
       "      <td>e</td>\n",
       "      <td>f</td>\n",
       "      <td>y</td>\n",
       "      <td>f</td>\n",
       "      <td>c</td>\n",
       "      <td>n</td>\n",
       "      <td>b</td>\n",
       "      <td>t</td>\n",
       "      <td>...</td>\n",
       "      <td>k</td>\n",
       "      <td>w</td>\n",
       "      <td>p</td>\n",
       "      <td>p</td>\n",
       "      <td>w</td>\n",
       "      <td>o</td>\n",
       "      <td>e</td>\n",
       "      <td>w</td>\n",
       "      <td>v</td>\n",
       "      <td>l</td>\n",
       "    </tr>\n",
       "  </tbody>\n",
       "</table>\n",
       "<p>5 rows × 22 columns</p>\n",
       "</div>"
      ],
      "text/plain": [
       "     cap-shape cap-surface cap-color bruises odor gill-attachment  \\\n",
       "7434         k           s         g       f    n               f   \n",
       "7725         x           f         w       f    n               f   \n",
       "783          x           s         w       t    l               f   \n",
       "1928         f           s         w       f    n               f   \n",
       "7466         k           y         e       f    y               f   \n",
       "\n",
       "     gill-spacing gill-size gill-color stalk-shape  ...  \\\n",
       "7434            w         b          p           e  ...   \n",
       "7725            w         b          g           e  ...   \n",
       "783             c         b          n           e  ...   \n",
       "1928            w         b          h           t  ...   \n",
       "7466            c         n          b           t  ...   \n",
       "\n",
       "     stalk-surface-below-ring stalk-color-above-ring stalk-color-below-ring  \\\n",
       "7434                        s                      w                      w   \n",
       "7725                        s                      w                      w   \n",
       "783                         s                      w                      w   \n",
       "1928                        f                      w                      w   \n",
       "7466                        k                      w                      p   \n",
       "\n",
       "     veil-type veil-color ring-number ring-type spore-print-color population  \\\n",
       "7434         p          w           t         p                 w          s   \n",
       "7725         p          w           t         p                 w          n   \n",
       "783          p          w           o         p                 k          s   \n",
       "1928         p          w           o         e                 k          s   \n",
       "7466         p          w           o         e                 w          v   \n",
       "\n",
       "     habitat  \n",
       "7434       g  \n",
       "7725       g  \n",
       "783        m  \n",
       "1928       g  \n",
       "7466       l  \n",
       "\n",
       "[5 rows x 22 columns]"
      ]
     },
     "execution_count": 6,
     "metadata": {},
     "output_type": "execute_result"
    }
   ],
   "source": [
    "X_train.head(5)"
   ]
  },
  {
   "cell_type": "markdown",
   "id": "fd581e73",
   "metadata": {},
   "source": [
    "### 1. Constant features removing"
   ]
  },
  {
   "cell_type": "code",
   "execution_count": 9,
   "id": "9eaa6f04",
   "metadata": {},
   "outputs": [
    {
     "data": {
      "text/plain": [
       "1"
      ]
     },
     "execution_count": 9,
     "metadata": {},
     "output_type": "execute_result"
    }
   ],
   "source": [
    "constant_features = [feat for feat in X_train.columns if X_train[feat].nunique() == 1]\n",
    "\n",
    "len(constant_features)"
   ]
  },
  {
   "cell_type": "markdown",
   "id": "ad847882",
   "metadata": {},
   "source": [
    "There is 1 variable that shows only 1 value in all the observations of the dataset and I can delete it."
   ]
  },
  {
   "cell_type": "code",
   "execution_count": 10,
   "id": "fce0e9ab",
   "metadata": {},
   "outputs": [
    {
     "data": {
      "text/plain": [
       "((6499, 21), (1625, 21))"
      ]
     },
     "execution_count": 10,
     "metadata": {},
     "output_type": "execute_result"
    }
   ],
   "source": [
    "X_train.drop(labels=constant_features, axis=1, inplace=True)\n",
    "X_test.drop(labels=constant_features, axis=1, inplace=True)\n",
    "\n",
    "X_train.shape, X_test.shape"
   ]
  },
  {
   "cell_type": "code",
   "execution_count": 11,
   "id": "08238735",
   "metadata": {},
   "outputs": [
    {
     "data": {
      "text/plain": [
       "['veil-type']"
      ]
     },
     "execution_count": 11,
     "metadata": {},
     "output_type": "execute_result"
    }
   ],
   "source": [
    "constant_features"
   ]
  },
  {
   "cell_type": "markdown",
   "id": "fa5d3e76",
   "metadata": {},
   "source": [
    "### 2. Duplicated features removing"
   ]
  },
  {
   "cell_type": "markdown",
   "id": "8c97ebcf",
   "metadata": {},
   "source": [
    "A new feature represents all columns' values as a string and after it's possible to check duplicate values in the new feature and find duplicate rows."
   ]
  },
  {
   "cell_type": "code",
   "execution_count": 14,
   "id": "4d785d79",
   "metadata": {},
   "outputs": [],
   "source": [
    "# check for duplicated features in the training set:\n",
    "# create an empty dictionary, where we will store the groups of duplicates\n",
    "duplicated_feat_pairs = {}\n",
    "\n",
    "# create an empty list to collect features that were found to be duplicated\n",
    "columns_dupl = []\n",
    "\n",
    "# iterate over every feature in our dataset:\n",
    "for i in range(0, len(X_train.columns)):    \n",
    "    # choose 1 feature:\n",
    "    feat_1 = X_train.columns[i]\n",
    "    \n",
    "    # check if this feature has already been identified as a duplicate of another one.\n",
    "    # If it was, it should be stored in our columns_dupl list.\n",
    "    # If this feature was already identified as a duplicate, we skip it, if\n",
    "    # it has not yet been identified as a duplicate, then we proceed:\n",
    "    if feat_1 not in columns_dupl:\n",
    "        duplicated_feat_pairs[feat_1] = []\n",
    "        # now, iterate over the remaining features of the dataset:\n",
    "        for feat_2 in X_train.columns[i + 1:]:\n",
    "            # check if this second feature is identical to the first one\n",
    "            if X_train[feat_1].equals(X_train[feat_2]):\n",
    "                # if it is identical, append it to the list in the dictionary\n",
    "                duplicated_feat_pairs[feat_1].append(feat_2)               \n",
    "                # and append it to our monitor list for duplicated variables\n",
    "                columns_dupl.append(feat_2)"
   ]
  },
  {
   "cell_type": "code",
   "execution_count": 15,
   "id": "52b4271f",
   "metadata": {},
   "outputs": [
    {
     "data": {
      "text/plain": [
       "0"
      ]
     },
     "execution_count": 15,
     "metadata": {},
     "output_type": "execute_result"
    }
   ],
   "source": [
    "len(columns_dupl)\n",
    "### There is no duplicated features"
   ]
  },
  {
   "cell_type": "markdown",
   "id": "074d66d5",
   "metadata": {},
   "source": [
    "### 3. Categorical features encoding"
   ]
  },
  {
   "cell_type": "markdown",
   "id": "cdb358f6",
   "metadata": {},
   "source": [
    "OrdinalEncoder\n",
    "Encode categorical features as an integer array.\n",
    "\n",
    "The input to this transformer should be an array-like of integers or strings, denoting the values taken on by categorical (discrete) features. The features are converted to ordinal integers. This results in a single column of integers (0 to n_categories - 1) per feature."
   ]
  },
  {
   "cell_type": "code",
   "execution_count": 16,
   "id": "ee92e826",
   "metadata": {},
   "outputs": [],
   "source": [
    "ord_enc = OrdinalEncoder(handle_unknown='use_encoded_value', unknown_value=np.NaN)"
   ]
  },
  {
   "cell_type": "code",
   "execution_count": 17,
   "id": "0a9662d2",
   "metadata": {},
   "outputs": [],
   "source": [
    "X_train_transform = ord_enc.fit_transform(X_train)\n",
    "X_train_transform = pd.DataFrame(X_train_transform)\n",
    "\n",
    "X_test_transform = ord_enc.transform(X_train)\n",
    "X_test_transform = pd.DataFrame(X_train_transform)"
   ]
  },
  {
   "cell_type": "code",
   "execution_count": 18,
   "id": "2e153bd1",
   "metadata": {},
   "outputs": [],
   "source": [
    "X_train_transform.columns = X_train.columns\n",
    "X_test_transform.columns = X_test.columns"
   ]
  },
  {
   "cell_type": "markdown",
   "id": "3d96ee89",
   "metadata": {},
   "source": [
    "### 4. Feature selection"
   ]
  },
  {
   "attachments": {
    "image.png": {
     "image/png": "[encoded data removed]"
    }
   },
   "cell_type": "markdown",
   "id": "a6e95dd4",
   "metadata": {},
   "source": [
    "![image.png](attachment:image.png)"
   ]
  },
  {
   "cell_type": "markdown",
   "id": "9f7283f5",
   "metadata": {},
   "source": [
    "#### 4.1 Chi-Squared"
   ]
  },
  {
   "cell_type": "code",
   "execution_count": 19,
   "id": "80081bf5",
   "metadata": {},
   "outputs": [
    {
     "data": {
      "text/plain": [
       "(array([1.48089426e+01, 1.77484752e+02, 8.98914003e+00, 9.46978512e+02,\n",
       "        6.96783177e+01, 2.19421119e+00, 6.69282032e+02, 1.32194349e+03,\n",
       "        4.85293025e+03, 3.23855630e+01, 9.60815748e+02, 1.70060352e+02,\n",
       "        1.59678019e+02, 9.43646382e+01, 8.50193238e+01, 3.39786069e+00,\n",
       "        2.13410113e+01, 1.51100895e+03, 3.22828476e+02, 2.51894968e+02,\n",
       "        5.84982351e+02]),\n",
       " array([1.18970006e-004, 1.71641350e-040, 2.71588781e-003, 6.01923715e-208,\n",
       "        6.98092814e-017, 1.38530110e-001, 1.43133831e-147, 1.92585378e-289,\n",
       "        0.00000000e+000, 1.26422228e-008, 5.91126383e-211, 7.17769434e-039,\n",
       "        1.33044771e-036, 2.62438948e-022, 2.95463343e-020, 6.52810336e-002,\n",
       "        3.84418957e-006, 0.00000000e+000, 3.50595397e-072, 1.00305717e-056,\n",
       "        3.09261540e-129]))"
      ]
     },
     "execution_count": 19,
     "metadata": {},
     "output_type": "execute_result"
    }
   ],
   "source": [
    "f_score = chi2(X_train_transform, y_train)\n",
    "\n",
    "# the 2 arrays of values : Chi2 statistics for each feature and P-values for each feature.\n",
    "f_score"
   ]
  },
  {
   "cell_type": "code",
   "execution_count": 20,
   "id": "7a2942f8",
   "metadata": {},
   "outputs": [
    {
     "data": {
      "text/plain": [
       "ring-type                    0.000000e+00\n",
       "gill-color                   0.000000e+00\n",
       "gill-size                   1.925854e-289\n",
       "stalk-root                  5.911264e-211\n",
       "bruises                     6.019237e-208\n",
       "gill-spacing                1.431338e-147\n",
       "habitat                     3.092615e-129\n",
       "spore-print-color            3.505954e-72\n",
       "population                   1.003057e-56\n",
       "cap-surface                  1.716413e-40\n",
       "stalk-surface-above-ring     7.177694e-39\n",
       "stalk-surface-below-ring     1.330448e-36\n",
       "stalk-color-above-ring       2.624389e-22\n",
       "stalk-color-below-ring       2.954633e-20\n",
       "odor                         6.980928e-17\n",
       "stalk-shape                  1.264222e-08\n",
       "ring-number                  3.844190e-06\n",
       "cap-shape                    1.189700e-04\n",
       "cap-color                    2.715888e-03\n",
       "veil-color                   6.528103e-02\n",
       "gill-attachment              1.385301e-01\n",
       "dtype: float64"
      ]
     },
     "execution_count": 20,
     "metadata": {},
     "output_type": "execute_result"
    }
   ],
   "source": [
    "pvalues = pd.Series(f_score[1])\n",
    "pvalues.index = X_train_transform.columns\n",
    "pvalues.sort_values(ascending=True)"
   ]
  },
  {
   "cell_type": "markdown",
   "id": "03765796",
   "metadata": {},
   "source": [
    "Contrarily to MI, where we were interested in the higher MI values, for the chi2, the smaller the p_value the more significant the feature is to predict the target."
   ]
  },
  {
   "cell_type": "markdown",
   "id": "a5dbd941",
   "metadata": {},
   "source": [
    "### 4.2 Mutual information"
   ]
  },
  {
   "cell_type": "markdown",
   "id": "5b723ec6",
   "metadata": {},
   "source": [
    "The mutual information measures the reduction in uncertainty in variable A when variable B is known.\n",
    "\n",
    "To select variables, we are interested in the mutual information between the predictor variables and the target. Higher mutual information values, indicate little uncertainty about the target Y given the predictor X.\n",
    "\n",
    "[Mutual Information, Wikipedia](https://en.wikipedia.org/wiki/Mutual_information):"
   ]
  },
  {
   "cell_type": "code",
   "execution_count": 21,
   "id": "0be001ba",
   "metadata": {},
   "outputs": [],
   "source": [
    "mi = mutual_info_classif(X_train_transform, y_train)"
   ]
  },
  {
   "cell_type": "code",
   "execution_count": 29,
   "id": "26e39291",
   "metadata": {},
   "outputs": [
    {
     "data": {
      "text/plain": [
       "odor                        0.626296\n",
       "spore-print-color           0.324809\n",
       "gill-color                  0.290093\n",
       "ring-type                   0.219215\n",
       "stalk-surface-above-ring    0.195007\n",
       "stalk-surface-below-ring    0.185115\n",
       "stalk-color-below-ring      0.170459\n",
       "stalk-color-above-ring      0.165126\n",
       "gill-size                   0.153313\n",
       "population                  0.136336\n",
       "bruises                     0.130846\n",
       "habitat                     0.105361\n",
       "stalk-root                  0.091017\n",
       "gill-spacing                0.076717\n",
       "cap-shape                   0.033474\n",
       "ring-number                 0.029114\n",
       "cap-surface                 0.028504\n",
       "cap-color                   0.028286\n",
       "gill-attachment             0.009634\n",
       "veil-color                  0.006182\n",
       "stalk-shape                 0.005561\n",
       "dtype: float64"
      ]
     },
     "execution_count": 29,
     "metadata": {},
     "output_type": "execute_result"
    }
   ],
   "source": [
    "mi.sort_values(ascending=False)"
   ]
  },
  {
   "cell_type": "markdown",
   "id": "81197f3a",
   "metadata": {},
   "source": [
    "The smaller the value of the mi, the less information we can infer from the feature about the target"
   ]
  },
  {
   "cell_type": "code",
   "execution_count": 23,
   "id": "916fe376",
   "metadata": {},
   "outputs": [
    {
     "data": {
      "text/plain": [
       "Text(0, 0.5, 'Mutual Information')"
      ]
     },
     "execution_count": 23,
     "metadata": {},
     "output_type": "execute_result"
    },
    {
     "data": {
      "image/png": "[encoded data removed]",
      "text/plain": [
       "<Figure size 2000x600 with 1 Axes>"
      ]
     },
     "metadata": {},
     "output_type": "display_data"
    }
   ],
   "source": [
    "mi = pd.Series(mi)\n",
    "mi.index = X_train_transform.columns\n",
    "mi.sort_values(ascending=False).plot.bar(figsize=(20, 6))\n",
    "plt.ylabel('Mutual Information')"
   ]
  },
  {
   "cell_type": "markdown",
   "id": "2661ee2a",
   "metadata": {},
   "source": [
    "Once we find the mutual information values, to select features we need to determine a threshold, or cut-off value, above which a feature will be selected.\n",
    "\n",
    "There are a few ways in which this can be done:\n",
    "\n",
    "- Select top k features, where k is an arbitrary number of features\n",
    "\n",
    "- Select features in the top n percentile, where n is again an arbitrary number\n",
    "\n",
    "- Select all features above a certain threshold of MI, arbitrarily decided.\n",
    "\n",
    "Scikit-learn transformer **SelectKBest**, allows us to automatically select the top k features, based of any statistical value, including the MI.\n",
    "\n",
    "Sklearn's **SelectPercentile** allows us to select the features in the top percentile of any statistical value, including the MI.\n",
    "\n",
    "Alternatively, if we want to select features based on a MI threshold, we can do it manually."
   ]
  },
  {
   "cell_type": "markdown",
   "id": "f2e1feb0",
   "metadata": {},
   "source": [
    "### 4.2.1 SelectKBest example"
   ]
  },
  {
   "cell_type": "code",
   "execution_count": 30,
   "id": "c972d5d0",
   "metadata": {},
   "outputs": [
    {
     "data": {
      "text/plain": [
       "Index(['odor', 'gill-size', 'gill-color', 'stalk-surface-above-ring',\n",
       "       'stalk-surface-below-ring', 'stalk-color-above-ring',\n",
       "       'stalk-color-below-ring', 'ring-type', 'spore-print-color',\n",
       "       'population'],\n",
       "      dtype='object')"
      ]
     },
     "execution_count": 30,
     "metadata": {},
     "output_type": "execute_result"
    }
   ],
   "source": [
    "# select features\n",
    "sel_ = SelectKBest(mutual_info_classif, k=10).fit(X_train_transform, y_train)\n",
    "\n",
    "# display features\n",
    "X_train.columns[sel_.get_support()]"
   ]
  },
  {
   "cell_type": "code",
   "execution_count": 31,
   "id": "b3f8fa29",
   "metadata": {},
   "outputs": [
    {
     "name": "stdout",
     "output_type": "stream",
     "text": [
      "(6499, 10) (1625, 10)\n"
     ]
    }
   ],
   "source": [
    "# to remove the rest of the features:\n",
    "X_train_sel = sel_.transform(X_train)\n",
    "X_test_sel = sel_.transform(X_test)\n",
    "print(X_train_sel.shape, X_test_sel.shape)"
   ]
  },
  {
   "cell_type": "code",
   "execution_count": 32,
   "id": "e53de82b",
   "metadata": {},
   "outputs": [],
   "source": [
    "### Select top 10th percentile features"
   ]
  },
  {
   "cell_type": "code",
   "execution_count": 33,
   "id": "fe72ec26",
   "metadata": {},
   "outputs": [
    {
     "data": {
      "text/plain": [
       "Index(['odor', 'spore-print-color'], dtype='object')"
      ]
     },
     "execution_count": 33,
     "metadata": {},
     "output_type": "execute_result"
    }
   ],
   "source": [
    "# Select the features in the top percentile\n",
    "sel_ = SelectPercentile(mutual_info_classif, percentile=10).fit(X_train_transform, y_train)\n",
    "\n",
    "# display the features\n",
    "X_train_transform.columns[sel_.get_support()]"
   ]
  },
  {
   "cell_type": "code",
   "execution_count": 34,
   "id": "45f4b2a6",
   "metadata": {},
   "outputs": [
    {
     "name": "stdout",
     "output_type": "stream",
     "text": [
      "(6499, 2) (1625, 2)\n"
     ]
    }
   ],
   "source": [
    "X_train_sel = sel_.transform(X_train)\n",
    "X_test_sel = sel_.transform(X_test)\n",
    "print(X_train_sel.shape, X_test_sel.shape)"
   ]
  },
  {
   "cell_type": "code",
   "execution_count": null,
   "id": "762250c0",
   "metadata": {},
   "outputs": [],
   "source": []
  }
 ],
 "metadata": {
  "kernelspec": {
   "display_name": "Python 3 (ipykernel)",
   "language": "python",
   "name": "python3"
  },
  "language_info": {
   "codemirror_mode": {
    "name": "ipython",
    "version": 3
   },
   "file_extension": ".py",
   "mimetype": "text/x-python",
   "name": "python",
   "nbconvert_exporter": "python",
   "pygments_lexer": "ipython3",
   "version": "3.9.12"
  }
 },
 "nbformat": 4,
 "nbformat_minor": 5
}
