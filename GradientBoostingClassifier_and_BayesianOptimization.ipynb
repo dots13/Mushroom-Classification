{
 "cells": [
  {
   "cell_type": "code",
   "execution_count": 1,
   "id": "e7ee15ad",
   "metadata": {},
   "outputs": [],
   "source": [
    "import numpy as np\n",
    "import pandas as pd\n",
    "import warnings\n",
    "warnings.simplefilter(action='ignore', category=FutureWarning)\n",
    "\n",
    "from sklearn.model_selection import train_test_split, cross_val_score\n",
    "from sklearn.metrics import accuracy_score, confusion_matrix, f1_score"
   ]
  },
  {
   "cell_type": "code",
   "execution_count": 2,
   "id": "bdb6a8f5",
   "metadata": {},
   "outputs": [],
   "source": [
    "from sklearn.ensemble import GradientBoostingClassifier\n",
    "import pickle\n",
    "\n",
    "from skopt import gp_minimize\n",
    "from skopt.plots import plot_convergence\n",
    "from skopt.space import Real, Integer, Categorical\n",
    "from skopt.utils import use_named_args"
   ]
  },
  {
   "cell_type": "code",
   "execution_count": 3,
   "id": "3e161563",
   "metadata": {},
   "outputs": [
    {
     "data": {
      "text/plain": [
       "(8124, 23)"
      ]
     },
     "execution_count": 3,
     "metadata": {},
     "output_type": "execute_result"
    }
   ],
   "source": [
    "# load dataset\n",
    "df = pd.read_csv('data/mushrooms.csv')\n",
    "df.shape"
   ]
  },
  {
   "cell_type": "code",
   "execution_count": 4,
   "id": "2ef51229",
   "metadata": {},
   "outputs": [],
   "source": [
    "### I dropped the veil-type feature because it's constant. \n",
    "### spore-print-color and odor features had the highest feature importance in the previous iteration\n",
    "### and I wanted to make this task a little bit more difficult\n",
    "df.drop(['veil-type', 'odor', 'spore-print-color'], axis=1, inplace=True)"
   ]
  },
  {
   "cell_type": "code",
   "execution_count": 5,
   "id": "50aaa4f4",
   "metadata": {},
   "outputs": [
    {
     "data": {
      "text/plain": [
       "e    0.517971\n",
       "p    0.482029\n",
       "Name: class, dtype: float64"
      ]
     },
     "execution_count": 5,
     "metadata": {},
     "output_type": "execute_result"
    }
   ],
   "source": [
    "### check target\n",
    "df['class'].value_counts()/len(df)\n",
    "### it's a balanced data set"
   ]
  },
  {
   "cell_type": "code",
   "execution_count": 6,
   "id": "ec2a9296",
   "metadata": {},
   "outputs": [
    {
     "data": {
      "text/plain": [
       "((6499, 19), (1625, 19))"
      ]
     },
     "execution_count": 6,
     "metadata": {},
     "output_type": "execute_result"
    }
   ],
   "source": [
    "# separate dataset into train and test\n",
    "X_train, X_test, y_train, y_test = train_test_split(\n",
    "    df.drop(labels=['class'], axis=1),  # drop the target\n",
    "    df['class'],  # just the target\n",
    "    test_size=0.2,\n",
    "    random_state=0)\n",
    "\n",
    "X_train.shape, X_test.shape"
   ]
  },
  {
   "cell_type": "code",
   "execution_count": 7,
   "id": "5b285890",
   "metadata": {},
   "outputs": [],
   "source": [
    "### Encode target\n",
    "target_dic = {'e':0, 'p': 1}\n",
    "\n",
    "y_train_encode = y_train.map(target_dic)\n",
    "y_test_encode = y_test.map(target_dic)\n",
    "\n",
    "y_train_encode = y_train.map(target_dic)\n",
    "y_test_encode = y_test.map(target_dic)"
   ]
  },
  {
   "cell_type": "code",
   "execution_count": 8,
   "id": "4cdf1620",
   "metadata": {},
   "outputs": [
    {
     "data": {
      "text/html": [
       "<div>\n",
       "<style scoped>\n",
       "    .dataframe tbody tr th:only-of-type {\n",
       "        vertical-align: middle;\n",
       "    }\n",
       "\n",
       "    .dataframe tbody tr th {\n",
       "        vertical-align: top;\n",
       "    }\n",
       "\n",
       "    .dataframe thead th {\n",
       "        text-align: right;\n",
       "    }\n",
       "</style>\n",
       "<table border=\"1\" class=\"dataframe\">\n",
       "  <thead>\n",
       "    <tr style=\"text-align: right;\">\n",
       "      <th></th>\n",
       "      <th>cap-shape</th>\n",
       "      <th>cap-surface</th>\n",
       "      <th>cap-color</th>\n",
       "      <th>bruises</th>\n",
       "      <th>gill-attachment</th>\n",
       "      <th>gill-spacing</th>\n",
       "      <th>gill-size</th>\n",
       "      <th>gill-color</th>\n",
       "      <th>stalk-shape</th>\n",
       "      <th>stalk-root</th>\n",
       "      <th>stalk-surface-above-ring</th>\n",
       "      <th>stalk-surface-below-ring</th>\n",
       "      <th>stalk-color-above-ring</th>\n",
       "      <th>stalk-color-below-ring</th>\n",
       "      <th>veil-color</th>\n",
       "      <th>ring-number</th>\n",
       "      <th>ring-type</th>\n",
       "      <th>population</th>\n",
       "      <th>habitat</th>\n",
       "      <th>class</th>\n",
       "    </tr>\n",
       "  </thead>\n",
       "  <tbody>\n",
       "    <tr>\n",
       "      <th>7434</th>\n",
       "      <td>k</td>\n",
       "      <td>s</td>\n",
       "      <td>g</td>\n",
       "      <td>f</td>\n",
       "      <td>f</td>\n",
       "      <td>w</td>\n",
       "      <td>b</td>\n",
       "      <td>p</td>\n",
       "      <td>e</td>\n",
       "      <td>?</td>\n",
       "      <td>s</td>\n",
       "      <td>s</td>\n",
       "      <td>w</td>\n",
       "      <td>w</td>\n",
       "      <td>w</td>\n",
       "      <td>t</td>\n",
       "      <td>p</td>\n",
       "      <td>s</td>\n",
       "      <td>g</td>\n",
       "      <td>0</td>\n",
       "    </tr>\n",
       "    <tr>\n",
       "      <th>7725</th>\n",
       "      <td>x</td>\n",
       "      <td>f</td>\n",
       "      <td>w</td>\n",
       "      <td>f</td>\n",
       "      <td>f</td>\n",
       "      <td>w</td>\n",
       "      <td>b</td>\n",
       "      <td>g</td>\n",
       "      <td>e</td>\n",
       "      <td>?</td>\n",
       "      <td>s</td>\n",
       "      <td>s</td>\n",
       "      <td>w</td>\n",
       "      <td>w</td>\n",
       "      <td>w</td>\n",
       "      <td>t</td>\n",
       "      <td>p</td>\n",
       "      <td>n</td>\n",
       "      <td>g</td>\n",
       "      <td>0</td>\n",
       "    </tr>\n",
       "    <tr>\n",
       "      <th>783</th>\n",
       "      <td>x</td>\n",
       "      <td>s</td>\n",
       "      <td>w</td>\n",
       "      <td>t</td>\n",
       "      <td>f</td>\n",
       "      <td>c</td>\n",
       "      <td>b</td>\n",
       "      <td>n</td>\n",
       "      <td>e</td>\n",
       "      <td>c</td>\n",
       "      <td>s</td>\n",
       "      <td>s</td>\n",
       "      <td>w</td>\n",
       "      <td>w</td>\n",
       "      <td>w</td>\n",
       "      <td>o</td>\n",
       "      <td>p</td>\n",
       "      <td>s</td>\n",
       "      <td>m</td>\n",
       "      <td>0</td>\n",
       "    </tr>\n",
       "    <tr>\n",
       "      <th>1928</th>\n",
       "      <td>f</td>\n",
       "      <td>s</td>\n",
       "      <td>w</td>\n",
       "      <td>f</td>\n",
       "      <td>f</td>\n",
       "      <td>w</td>\n",
       "      <td>b</td>\n",
       "      <td>h</td>\n",
       "      <td>t</td>\n",
       "      <td>e</td>\n",
       "      <td>s</td>\n",
       "      <td>f</td>\n",
       "      <td>w</td>\n",
       "      <td>w</td>\n",
       "      <td>w</td>\n",
       "      <td>o</td>\n",
       "      <td>e</td>\n",
       "      <td>s</td>\n",
       "      <td>g</td>\n",
       "      <td>0</td>\n",
       "    </tr>\n",
       "    <tr>\n",
       "      <th>7466</th>\n",
       "      <td>k</td>\n",
       "      <td>y</td>\n",
       "      <td>e</td>\n",
       "      <td>f</td>\n",
       "      <td>f</td>\n",
       "      <td>c</td>\n",
       "      <td>n</td>\n",
       "      <td>b</td>\n",
       "      <td>t</td>\n",
       "      <td>?</td>\n",
       "      <td>s</td>\n",
       "      <td>k</td>\n",
       "      <td>w</td>\n",
       "      <td>p</td>\n",
       "      <td>w</td>\n",
       "      <td>o</td>\n",
       "      <td>e</td>\n",
       "      <td>v</td>\n",
       "      <td>l</td>\n",
       "      <td>1</td>\n",
       "    </tr>\n",
       "  </tbody>\n",
       "</table>\n",
       "</div>"
      ],
      "text/plain": [
       "     cap-shape cap-surface cap-color bruises gill-attachment gill-spacing  \\\n",
       "7434         k           s         g       f               f            w   \n",
       "7725         x           f         w       f               f            w   \n",
       "783          x           s         w       t               f            c   \n",
       "1928         f           s         w       f               f            w   \n",
       "7466         k           y         e       f               f            c   \n",
       "\n",
       "     gill-size gill-color stalk-shape stalk-root stalk-surface-above-ring  \\\n",
       "7434         b          p           e          ?                        s   \n",
       "7725         b          g           e          ?                        s   \n",
       "783          b          n           e          c                        s   \n",
       "1928         b          h           t          e                        s   \n",
       "7466         n          b           t          ?                        s   \n",
       "\n",
       "     stalk-surface-below-ring stalk-color-above-ring stalk-color-below-ring  \\\n",
       "7434                        s                      w                      w   \n",
       "7725                        s                      w                      w   \n",
       "783                         s                      w                      w   \n",
       "1928                        f                      w                      w   \n",
       "7466                        k                      w                      p   \n",
       "\n",
       "     veil-color ring-number ring-type population habitat  class  \n",
       "7434          w           t         p          s       g      0  \n",
       "7725          w           t         p          n       g      0  \n",
       "783           w           o         p          s       m      0  \n",
       "1928          w           o         e          s       g      0  \n",
       "7466          w           o         e          v       l      1  "
      ]
     },
     "execution_count": 8,
     "metadata": {},
     "output_type": "execute_result"
    }
   ],
   "source": [
    "cat_columns = X_train.columns\n",
    "X_train['class'] = y_train_encode\n",
    "X_train.head(5)"
   ]
  },
  {
   "cell_type": "markdown",
   "id": "e0286e8e",
   "metadata": {},
   "source": [
    "## Probability Ratio Encoding"
   ]
  },
  {
   "cell_type": "code",
   "execution_count": 9,
   "id": "c6a1ee81",
   "metadata": {},
   "outputs": [],
   "source": [
    "X_train_transform = X_train.copy()\n",
    "X_test_transform = X_test.copy()"
   ]
  },
  {
   "cell_type": "code",
   "execution_count": 10,
   "id": "f8dbb39f",
   "metadata": {},
   "outputs": [],
   "source": [
    "def find_category_mappings(df, variable, target):\n",
    "    tmp = pd.DataFrame(df.groupby([variable])[target].mean())  \n",
    "    tmp['non-target'] = 1 - tmp[target]  \n",
    "    tmp['ratio'] = tmp[target] / tmp['non-target']\n",
    "    return tmp['ratio'].to_dict()\n",
    "\n",
    "def integer_encode(train, test, variable, ordinal_mapping):\n",
    "    train[variable] = train[variable].map(ordinal_mapping)\n",
    "    test[variable] = test[variable].map(ordinal_mapping)"
   ]
  },
  {
   "cell_type": "code",
   "execution_count": 11,
   "id": "9d475140",
   "metadata": {},
   "outputs": [],
   "source": [
    "for col in X_train_transform.columns.to_list()[:-1]:    \n",
    "    mappings = find_category_mappings(X_train_transform, col, 'class')  \n",
    "    integer_encode(X_train_transform, X_test_transform, col, mappings)"
   ]
  },
  {
   "cell_type": "code",
   "execution_count": 12,
   "id": "e2e5810c",
   "metadata": {},
   "outputs": [],
   "source": [
    "X_train_transform.replace(np.inf, 1, inplace=True)\n",
    "X_train_transform.drop('class', axis=1, inplace=True)\n",
    "X_test_transform.replace(np.inf, 1, inplace=True)"
   ]
  },
  {
   "cell_type": "code",
   "execution_count": 13,
   "id": "c9c2c0be",
   "metadata": {},
   "outputs": [
    {
     "data": {
      "text/html": [
       "<div>\n",
       "<style scoped>\n",
       "    .dataframe tbody tr th:only-of-type {\n",
       "        vertical-align: middle;\n",
       "    }\n",
       "\n",
       "    .dataframe tbody tr th {\n",
       "        vertical-align: top;\n",
       "    }\n",
       "\n",
       "    .dataframe thead th {\n",
       "        text-align: right;\n",
       "    }\n",
       "</style>\n",
       "<table border=\"1\" class=\"dataframe\">\n",
       "  <thead>\n",
       "    <tr style=\"text-align: right;\">\n",
       "      <th></th>\n",
       "      <th>cap-shape</th>\n",
       "      <th>cap-surface</th>\n",
       "      <th>cap-color</th>\n",
       "      <th>bruises</th>\n",
       "      <th>gill-attachment</th>\n",
       "      <th>gill-spacing</th>\n",
       "      <th>gill-size</th>\n",
       "      <th>gill-color</th>\n",
       "      <th>stalk-shape</th>\n",
       "      <th>stalk-root</th>\n",
       "      <th>stalk-surface-above-ring</th>\n",
       "      <th>stalk-surface-below-ring</th>\n",
       "      <th>stalk-color-above-ring</th>\n",
       "      <th>stalk-color-below-ring</th>\n",
       "      <th>veil-color</th>\n",
       "      <th>ring-number</th>\n",
       "      <th>ring-type</th>\n",
       "      <th>population</th>\n",
       "      <th>habitat</th>\n",
       "    </tr>\n",
       "  </thead>\n",
       "  <tbody>\n",
       "    <tr>\n",
       "      <th>7434</th>\n",
       "      <td>2.583784</td>\n",
       "      <td>1.282340</td>\n",
       "      <td>0.788969</td>\n",
       "      <td>2.262436</td>\n",
       "      <td>0.972024</td>\n",
       "      <td>0.094943</td>\n",
       "      <td>0.429805</td>\n",
       "      <td>0.742690</td>\n",
       "      <td>1.199372</td>\n",
       "      <td>2.507965</td>\n",
       "      <td>0.428374</td>\n",
       "      <td>0.458719</td>\n",
       "      <td>0.628805</td>\n",
       "      <td>0.623155</td>\n",
       "      <td>0.974821</td>\n",
       "      <td>0.137850</td>\n",
       "      <td>0.264765</td>\n",
       "      <td>0.432011</td>\n",
       "      <td>0.526502</td>\n",
       "    </tr>\n",
       "    <tr>\n",
       "      <th>7725</th>\n",
       "      <td>0.887735</td>\n",
       "      <td>0.482567</td>\n",
       "      <td>0.457295</td>\n",
       "      <td>2.262436</td>\n",
       "      <td>0.972024</td>\n",
       "      <td>0.094943</td>\n",
       "      <td>0.429805</td>\n",
       "      <td>2.180328</td>\n",
       "      <td>1.199372</td>\n",
       "      <td>2.507965</td>\n",
       "      <td>0.428374</td>\n",
       "      <td>0.458719</td>\n",
       "      <td>0.628805</td>\n",
       "      <td>0.623155</td>\n",
       "      <td>0.974821</td>\n",
       "      <td>0.137850</td>\n",
       "      <td>0.264765</td>\n",
       "      <td>0.000000</td>\n",
       "      <td>0.526502</td>\n",
       "    </tr>\n",
       "    <tr>\n",
       "      <th>783</th>\n",
       "      <td>0.887735</td>\n",
       "      <td>1.282340</td>\n",
       "      <td>0.457295</td>\n",
       "      <td>0.230594</td>\n",
       "      <td>0.972024</td>\n",
       "      <td>1.278173</td>\n",
       "      <td>0.429805</td>\n",
       "      <td>0.128726</td>\n",
       "      <td>1.199372</td>\n",
       "      <td>0.096447</td>\n",
       "      <td>0.428374</td>\n",
       "      <td>0.458719</td>\n",
       "      <td>0.628805</td>\n",
       "      <td>0.623155</td>\n",
       "      <td>0.974821</td>\n",
       "      <td>1.042691</td>\n",
       "      <td>0.264765</td>\n",
       "      <td>0.432011</td>\n",
       "      <td>0.155779</td>\n",
       "    </tr>\n",
       "    <tr>\n",
       "      <th>1928</th>\n",
       "      <td>0.975894</td>\n",
       "      <td>1.282340</td>\n",
       "      <td>0.457295</td>\n",
       "      <td>2.262436</td>\n",
       "      <td>0.972024</td>\n",
       "      <td>0.094943</td>\n",
       "      <td>0.429805</td>\n",
       "      <td>2.514793</td>\n",
       "      <td>0.775696</td>\n",
       "      <td>0.301273</td>\n",
       "      <td>0.428374</td>\n",
       "      <td>0.315217</td>\n",
       "      <td>0.628805</td>\n",
       "      <td>0.623155</td>\n",
       "      <td>0.974821</td>\n",
       "      <td>1.042691</td>\n",
       "      <td>1.719807</td>\n",
       "      <td>0.432011</td>\n",
       "      <td>0.526502</td>\n",
       "    </tr>\n",
       "    <tr>\n",
       "      <th>7466</th>\n",
       "      <td>2.583784</td>\n",
       "      <td>1.153527</td>\n",
       "      <td>1.416667</td>\n",
       "      <td>2.262436</td>\n",
       "      <td>0.972024</td>\n",
       "      <td>1.278173</td>\n",
       "      <td>7.855895</td>\n",
       "      <td>1.000000</td>\n",
       "      <td>0.775696</td>\n",
       "      <td>2.507965</td>\n",
       "      <td>0.428374</td>\n",
       "      <td>14.601695</td>\n",
       "      <td>0.628805</td>\n",
       "      <td>2.287281</td>\n",
       "      <td>0.974821</td>\n",
       "      <td>1.042691</td>\n",
       "      <td>1.719807</td>\n",
       "      <td>2.418085</td>\n",
       "      <td>2.703911</td>\n",
       "    </tr>\n",
       "  </tbody>\n",
       "</table>\n",
       "</div>"
      ],
      "text/plain": [
       "      cap-shape  cap-surface  cap-color   bruises  gill-attachment  \\\n",
       "7434   2.583784     1.282340   0.788969  2.262436         0.972024   \n",
       "7725   0.887735     0.482567   0.457295  2.262436         0.972024   \n",
       "783    0.887735     1.282340   0.457295  0.230594         0.972024   \n",
       "1928   0.975894     1.282340   0.457295  2.262436         0.972024   \n",
       "7466   2.583784     1.153527   1.416667  2.262436         0.972024   \n",
       "\n",
       "      gill-spacing  gill-size  gill-color  stalk-shape  stalk-root  \\\n",
       "7434      0.094943   0.429805    0.742690     1.199372    2.507965   \n",
       "7725      0.094943   0.429805    2.180328     1.199372    2.507965   \n",
       "783       1.278173   0.429805    0.128726     1.199372    0.096447   \n",
       "1928      0.094943   0.429805    2.514793     0.775696    0.301273   \n",
       "7466      1.278173   7.855895    1.000000     0.775696    2.507965   \n",
       "\n",
       "      stalk-surface-above-ring  stalk-surface-below-ring  \\\n",
       "7434                  0.428374                  0.458719   \n",
       "7725                  0.428374                  0.458719   \n",
       "783                   0.428374                  0.458719   \n",
       "1928                  0.428374                  0.315217   \n",
       "7466                  0.428374                 14.601695   \n",
       "\n",
       "      stalk-color-above-ring  stalk-color-below-ring  veil-color  ring-number  \\\n",
       "7434                0.628805                0.623155    0.974821     0.137850   \n",
       "7725                0.628805                0.623155    0.974821     0.137850   \n",
       "783                 0.628805                0.623155    0.974821     1.042691   \n",
       "1928                0.628805                0.623155    0.974821     1.042691   \n",
       "7466                0.628805                2.287281    0.974821     1.042691   \n",
       "\n",
       "      ring-type  population   habitat  \n",
       "7434   0.264765    0.432011  0.526502  \n",
       "7725   0.264765    0.000000  0.526502  \n",
       "783    0.264765    0.432011  0.155779  \n",
       "1928   1.719807    0.432011  0.526502  \n",
       "7466   1.719807    2.418085  2.703911  "
      ]
     },
     "execution_count": 13,
     "metadata": {},
     "output_type": "execute_result"
    }
   ],
   "source": [
    "X_train_transform.head(5)"
   ]
  },
  {
   "cell_type": "markdown",
   "id": "3b0e1313",
   "metadata": {},
   "source": [
    "## Gradient Boosting Classifier"
   ]
  },
  {
   "cell_type": "code",
   "execution_count": 14,
   "id": "1b63c6a4",
   "metadata": {},
   "outputs": [
    {
     "name": "stdout",
     "output_type": "stream",
     "text": [
      "Gradient Boosting Classifier model accuracy: 90.22%\n",
      "F1 score: 0.89\n",
      "[[825  27]\n",
      " [132 641]]\n"
     ]
    }
   ],
   "source": [
    "clf = GradientBoostingClassifier(n_estimators=5, max_depth=2)\n",
    "clf.fit(X_train_transform, y_train_encode)\n",
    "y_pred = clf.predict(X_test_transform)\n",
    "\n",
    "print(f'Gradient Boosting Classifier model accuracy: {accuracy_score(y_test_encode, y_pred)*100:.2f}%')\n",
    "print(f'F1 score: {f1_score(y_test_encode, y_pred):.2f}')\n",
    "print(confusion_matrix(y_test_encode, y_pred)) "
   ]
  },
  {
   "cell_type": "markdown",
   "id": "b2f2853b",
   "metadata": {},
   "source": [
    "## Define the model"
   ]
  },
  {
   "cell_type": "code",
   "execution_count": 15,
   "id": "0ab3fdc5",
   "metadata": {},
   "outputs": [],
   "source": [
    "# set up the gradient boosting classifier\n",
    "gbm = GradientBoostingClassifier(random_state=0)"
   ]
  },
  {
   "cell_type": "markdown",
   "id": "5b5b4933",
   "metadata": {},
   "source": [
    "## Define aparam grid"
   ]
  },
  {
   "cell_type": "code",
   "execution_count": 16,
   "id": "b667698c",
   "metadata": {},
   "outputs": [
    {
     "data": {
      "text/plain": [
       "list"
      ]
     },
     "execution_count": 16,
     "metadata": {},
     "output_type": "execute_result"
    }
   ],
   "source": [
    "# determine the hyperparameter space\n",
    "\n",
    "param_grid = [\n",
    "    Integer(5, 70, name=\"n_estimators\"),\n",
    "    Real(0.001, 0.999, name=\"min_samples_split\"),\n",
    "    Integer(1, 5, name=\"max_depth\"),\n",
    "    Categorical(['deviance', 'exponential'], name=\"loss\"),\n",
    "]\n",
    "\n",
    "# Scikit-optimize parameter grid is a list\n",
    "type(param_grid)"
   ]
  },
  {
   "cell_type": "markdown",
   "id": "64e51bfa",
   "metadata": {},
   "source": [
    "## Define the objective function\n",
    "\n",
    "This is the hyperparameter response space, the function we want to minimize."
   ]
  },
  {
   "cell_type": "code",
   "execution_count": 17,
   "id": "5910cc31",
   "metadata": {},
   "outputs": [],
   "source": [
    "best_accuracy = 0"
   ]
  },
  {
   "cell_type": "code",
   "execution_count": 18,
   "id": "5b293d77",
   "metadata": {},
   "outputs": [],
   "source": [
    "# Design a function to maximize the accuracy, of a GBM, with cross-validation\n",
    "# The decorator allows the objective function to receive the parameters as\n",
    "# keyword arguments. This is a requirement of Scikit-Optimize.\n",
    "@use_named_args(param_grid)\n",
    "def objective(**params):\n",
    "    \n",
    "    # model with new parameters\n",
    "    gbm.set_params(**params)\n",
    "\n",
    "    # optimization function (hyperparam response function)\n",
    "    value = np.mean(\n",
    "        cross_val_score(\n",
    "            gbm, \n",
    "            X_train_transform,\n",
    "            y_train_encode,\n",
    "            cv=4,\n",
    "            scoring='accuracy')\n",
    "    )\n",
    "\n",
    "    # save the best model\n",
    "    global best_accuracy\n",
    "    if value > best_accuracy:\n",
    "        gbm.fit(X_train_transform, y_train_encode)\n",
    "        pickle.dump(gbm, open('dump.pkl', 'wb'))\n",
    "        \n",
    "        # Update the classification accuracy.\n",
    "        best_accuracy = value\n",
    "\n",
    "    # negate because we need to minimize\n",
    "    return -value"
   ]
  },
  {
   "cell_type": "markdown",
   "id": "f10ba461",
   "metadata": {},
   "source": [
    "## Bayesian Optimization\n",
    "\n",
    "Sequential model-based optimization."
   ]
  },
  {
   "cell_type": "code",
   "execution_count": 19,
   "id": "e8feab99",
   "metadata": {},
   "outputs": [],
   "source": [
    "# gp_minimize performs by default GP Optimization \n",
    "# using a Marten Kernel\n",
    "\n",
    "gp_ = gp_minimize(\n",
    "    objective, # the objective function to minimize\n",
    "    param_grid, # the hyperparameter space\n",
    "    n_initial_points=10, # the number of points to evaluate f(x) to start of\n",
    "    acq_func='EI', # the acquisition function\n",
    "    n_calls=50, # the number of subsequent evaluations of f(x)\n",
    "    random_state=0, \n",
    ")"
   ]
  },
  {
   "cell_type": "code",
   "execution_count": 20,
   "id": "83ac9b6d",
   "metadata": {},
   "outputs": [
    {
     "name": "stdout",
     "output_type": "stream",
     "text": [
      "Best score = 1.00\n"
     ]
    }
   ],
   "source": [
    "# function value at the minimum.\n",
    "print(f'Best score = {-gp_.fun:.2f}')"
   ]
  },
  {
   "cell_type": "code",
   "execution_count": 21,
   "id": "95d2e9ee",
   "metadata": {},
   "outputs": [
    {
     "name": "stdout",
     "output_type": "stream",
     "text": [
      "Best parameters:\n",
      "\t n_estimators = 70\n",
      "\t min_samples_split = 0.0010\n",
      "\t max_depth = 5.0\n",
      "\t loss = deviance\n"
     ]
    }
   ],
   "source": [
    "print(f'Best parameters:')\n",
    "print(f'\\t n_estimators = {gp_.x[0]}')\n",
    "print(f'\\t min_samples_split = {gp_.x[1]:.4f}')\n",
    "print(f'\\t max_depth = {gp_.x[2]:.1f}')\n",
    "print(f'\\t loss = {gp_.x[3]}')"
   ]
  },
  {
   "cell_type": "code",
   "execution_count": 22,
   "id": "e1adfdb8",
   "metadata": {},
   "outputs": [
    {
     "data": {
      "text/plain": [
       "<AxesSubplot:title={'center':'Convergence plot'}, xlabel='Number of calls $n$', ylabel='$\\\\min f(x)$ after $n$ calls'>"
      ]
     },
     "execution_count": 22,
     "metadata": {},
     "output_type": "execute_result"
    },
    {
     "data": {
      "image/png": "[encoded data removed]",
      "text/plain": [
       "<Figure size 640x480 with 1 Axes>"
      ]
     },
     "metadata": {},
     "output_type": "display_data"
    }
   ],
   "source": [
    "plot_convergence(gp_)"
   ]
  },
  {
   "cell_type": "markdown",
   "id": "7b5e8c1b",
   "metadata": {},
   "source": [
    "Note that with around 12 iterations, the procedure already found the minimum of the hyperparamter response function."
   ]
  },
  {
   "cell_type": "code",
   "execution_count": 23,
   "id": "c7fa2f2a",
   "metadata": {},
   "outputs": [
    {
     "name": "stdout",
     "output_type": "stream",
     "text": [
      "Gradient Boosting Classifier model accuracy: 100.00%\n",
      "F1 score: 1.00\n",
      "[[852   0]\n",
      " [  0 773]]\n"
     ]
    }
   ],
   "source": [
    "loaded_model = pickle.load(open('dump.pkl', 'rb'))\n",
    "y_pred = loaded_model.predict(X_test_transform)\n",
    "\n",
    "print(f'Gradient Boosting Classifier model accuracy: {accuracy_score(y_test_encode, y_pred)*100:.2f}%')\n",
    "print(f'F1 score: {f1_score(y_test_encode, y_pred):.2f}')\n",
    "print(confusion_matrix(y_test_encode, y_pred)) "
   ]
  },
  {
   "cell_type": "code",
   "execution_count": 24,
   "id": "272105be",
   "metadata": {},
   "outputs": [
    {
     "data": {
      "text/plain": [
       "<AxesSubplot:title={'center':'Feature Importances'}>"
      ]
     },
     "execution_count": 24,
     "metadata": {},
     "output_type": "execute_result"
    },
    {
     "data": {
      "image/png": "[encoded data removed]",
      "text/plain": [
       "<Figure size 640x480 with 1 Axes>"
      ]
     },
     "metadata": {},
     "output_type": "display_data"
    }
   ],
   "source": [
    "feat_imp = pd.Series(loaded_model.feature_importances_, X_train_transform.columns).sort_values(ascending=False)\n",
    "feat_imp.plot(kind='bar', title='Feature Importances')"
   ]
  },
  {
   "cell_type": "code",
   "execution_count": null,
   "id": "d04efcbe",
   "metadata": {},
   "outputs": [],
   "source": []
  }
 ],
 "metadata": {
  "kernelspec": {
   "display_name": "Python 3 (ipykernel)",
   "language": "python",
   "name": "python3"
  },
  "language_info": {
   "codemirror_mode": {
    "name": "ipython",
    "version": 3
   },
   "file_extension": ".py",
   "mimetype": "text/x-python",
   "name": "python",
   "nbconvert_exporter": "python",
   "pygments_lexer": "ipython3",
   "version": "3.9.12"
  }
 },
 "nbformat": 4,
 "nbformat_minor": 5
}
